{
 "cells": [
  {
   "cell_type": "markdown",
   "metadata": {},
   "source": [
    "### Phillips curve\n",
    "##### The Phillips curve is a single-equation economic model, named after William Phillips, hypothesizing an inverse relationship between rates of unemployment and corresponding rates of rises in wages that result within an economy"
   ]
  },
  {
   "cell_type": "code",
   "execution_count": 150,
   "metadata": {},
   "outputs": [
    {
     "name": "stderr",
     "output_type": "stream",
     "text": [
      "C:\\Users\\helco2031752\\AppData\\Local\\Programs\\Python\\Python39\\lib\\site-packages\\openpyxl\\styles\\stylesheet.py:226: UserWarning: Workbook contains no default style, apply openpyxl's default\n",
      "  warn(\"Workbook contains no default style, apply openpyxl's default\")\n"
     ]
    },
    {
     "data": {
      "text/html": [
       "<div>\n",
       "<style scoped>\n",
       "    .dataframe tbody tr th:only-of-type {\n",
       "        vertical-align: middle;\n",
       "    }\n",
       "\n",
       "    .dataframe tbody tr th {\n",
       "        vertical-align: top;\n",
       "    }\n",
       "\n",
       "    .dataframe thead th {\n",
       "        text-align: right;\n",
       "    }\n",
       "</style>\n",
       "<table border=\"1\" class=\"dataframe\">\n",
       "  <thead>\n",
       "    <tr style=\"text-align: right;\">\n",
       "      <th></th>\n",
       "      <th>date</th>\n",
       "      <th>cpi_kor</th>\n",
       "      <th>unemploy_kor</th>\n",
       "    </tr>\n",
       "  </thead>\n",
       "  <tbody>\n",
       "    <tr>\n",
       "      <th>0</th>\n",
       "      <td>2000/01</td>\n",
       "      <td>62.456</td>\n",
       "      <td>5.7</td>\n",
       "    </tr>\n",
       "    <tr>\n",
       "      <th>1</th>\n",
       "      <td>2000/02</td>\n",
       "      <td>62.647</td>\n",
       "      <td>5.7</td>\n",
       "    </tr>\n",
       "    <tr>\n",
       "      <th>2</th>\n",
       "      <td>2000/03</td>\n",
       "      <td>62.962</td>\n",
       "      <td>5.1</td>\n",
       "    </tr>\n",
       "    <tr>\n",
       "      <th>3</th>\n",
       "      <td>2000/04</td>\n",
       "      <td>62.709</td>\n",
       "      <td>4.5</td>\n",
       "    </tr>\n",
       "    <tr>\n",
       "      <th>4</th>\n",
       "      <td>2000/05</td>\n",
       "      <td>62.393</td>\n",
       "      <td>4.1</td>\n",
       "    </tr>\n",
       "    <tr>\n",
       "      <th>...</th>\n",
       "      <td>...</td>\n",
       "      <td>...</td>\n",
       "      <td>...</td>\n",
       "    </tr>\n",
       "    <tr>\n",
       "      <th>260</th>\n",
       "      <td>2021/09</td>\n",
       "      <td>103.170</td>\n",
       "      <td>2.7</td>\n",
       "    </tr>\n",
       "    <tr>\n",
       "      <th>261</th>\n",
       "      <td>2021/10</td>\n",
       "      <td>103.350</td>\n",
       "      <td>2.8</td>\n",
       "    </tr>\n",
       "    <tr>\n",
       "      <th>262</th>\n",
       "      <td>2021/11</td>\n",
       "      <td>103.870</td>\n",
       "      <td>2.6</td>\n",
       "    </tr>\n",
       "    <tr>\n",
       "      <th>263</th>\n",
       "      <td>2021/12</td>\n",
       "      <td>104.040</td>\n",
       "      <td>3.5</td>\n",
       "    </tr>\n",
       "    <tr>\n",
       "      <th>264</th>\n",
       "      <td>2022/01</td>\n",
       "      <td>104.690</td>\n",
       "      <td>4.1</td>\n",
       "    </tr>\n",
       "  </tbody>\n",
       "</table>\n",
       "<p>265 rows × 3 columns</p>\n",
       "</div>"
      ],
      "text/plain": [
       "        date  cpi_kor  unemploy_kor\n",
       "0    2000/01   62.456           5.7\n",
       "1    2000/02   62.647           5.7\n",
       "2    2000/03   62.962           5.1\n",
       "3    2000/04   62.709           4.5\n",
       "4    2000/05   62.393           4.1\n",
       "..       ...      ...           ...\n",
       "260  2021/09  103.170           2.7\n",
       "261  2021/10  103.350           2.8\n",
       "262  2021/11  103.870           2.6\n",
       "263  2021/12  104.040           3.5\n",
       "264  2022/01  104.690           4.1\n",
       "\n",
       "[265 rows x 3 columns]"
      ]
     },
     "execution_count": 150,
     "metadata": {},
     "output_type": "execute_result"
    }
   ],
   "source": [
    "import os\n",
    "path = \"./data/\"\n",
    "file = os.listdir(path)[0]\n",
    "\n",
    "#!pip install openpyxl\n",
    "\n",
    "import numpy as np\n",
    "import pandas as pd\n",
    "data = pd.read_excel(path + file, header=None, )\n",
    "\n",
    "data.columns = [\"date\", \"cpi_kor\", \"unemploy_kor\"]\n",
    "\n",
    "data = data.drop(index = np.arange(0,5))\n",
    "data = data.dropna()\n",
    "data = data.reset_index(drop = True)\n",
    "\n",
    "data[data.columns[1]] = data[data.columns[1]].astype('float')\n",
    "data[data.columns[2]] = data[data.columns[2]].astype('float')\n",
    "data"
   ]
  },
  {
   "cell_type": "code",
   "execution_count": 152,
   "metadata": {},
   "outputs": [
    {
     "data": {
      "text/html": [
       "<div>\n",
       "<style scoped>\n",
       "    .dataframe tbody tr th:only-of-type {\n",
       "        vertical-align: middle;\n",
       "    }\n",
       "\n",
       "    .dataframe tbody tr th {\n",
       "        vertical-align: top;\n",
       "    }\n",
       "\n",
       "    .dataframe thead th {\n",
       "        text-align: right;\n",
       "    }\n",
       "</style>\n",
       "<table border=\"1\" class=\"dataframe\">\n",
       "  <thead>\n",
       "    <tr style=\"text-align: right;\">\n",
       "      <th></th>\n",
       "      <th>date</th>\n",
       "      <th>cpi_kor</th>\n",
       "      <th>unemploy_kor</th>\n",
       "      <th>inflation</th>\n",
       "    </tr>\n",
       "  </thead>\n",
       "  <tbody>\n",
       "    <tr>\n",
       "      <th>0</th>\n",
       "      <td>2001/01</td>\n",
       "      <td>64.604</td>\n",
       "      <td>5.1</td>\n",
       "      <td>2.148</td>\n",
       "    </tr>\n",
       "    <tr>\n",
       "      <th>1</th>\n",
       "      <td>2001/02</td>\n",
       "      <td>64.919</td>\n",
       "      <td>5.5</td>\n",
       "      <td>2.272</td>\n",
       "    </tr>\n",
       "    <tr>\n",
       "      <th>2</th>\n",
       "      <td>2001/03</td>\n",
       "      <td>65.488</td>\n",
       "      <td>5.1</td>\n",
       "      <td>2.526</td>\n",
       "    </tr>\n",
       "    <tr>\n",
       "      <th>3</th>\n",
       "      <td>2001/04</td>\n",
       "      <td>65.740</td>\n",
       "      <td>4.1</td>\n",
       "      <td>3.031</td>\n",
       "    </tr>\n",
       "    <tr>\n",
       "      <th>4</th>\n",
       "      <td>2001/05</td>\n",
       "      <td>65.677</td>\n",
       "      <td>3.7</td>\n",
       "      <td>3.284</td>\n",
       "    </tr>\n",
       "    <tr>\n",
       "      <th>...</th>\n",
       "      <td>...</td>\n",
       "      <td>...</td>\n",
       "      <td>...</td>\n",
       "      <td>...</td>\n",
       "    </tr>\n",
       "    <tr>\n",
       "      <th>248</th>\n",
       "      <td>2021/09</td>\n",
       "      <td>103.170</td>\n",
       "      <td>2.7</td>\n",
       "      <td>2.430</td>\n",
       "    </tr>\n",
       "    <tr>\n",
       "      <th>249</th>\n",
       "      <td>2021/10</td>\n",
       "      <td>103.350</td>\n",
       "      <td>2.8</td>\n",
       "      <td>3.170</td>\n",
       "    </tr>\n",
       "    <tr>\n",
       "      <th>250</th>\n",
       "      <td>2021/11</td>\n",
       "      <td>103.870</td>\n",
       "      <td>2.6</td>\n",
       "      <td>3.780</td>\n",
       "    </tr>\n",
       "    <tr>\n",
       "      <th>251</th>\n",
       "      <td>2021/12</td>\n",
       "      <td>104.040</td>\n",
       "      <td>3.5</td>\n",
       "      <td>3.710</td>\n",
       "    </tr>\n",
       "    <tr>\n",
       "      <th>252</th>\n",
       "      <td>2022/01</td>\n",
       "      <td>104.690</td>\n",
       "      <td>4.1</td>\n",
       "      <td>3.650</td>\n",
       "    </tr>\n",
       "  </tbody>\n",
       "</table>\n",
       "<p>253 rows × 4 columns</p>\n",
       "</div>"
      ],
      "text/plain": [
       "        date  cpi_kor  unemploy_kor  inflation\n",
       "0    2001/01   64.604           5.1      2.148\n",
       "1    2001/02   64.919           5.5      2.272\n",
       "2    2001/03   65.488           5.1      2.526\n",
       "3    2001/04   65.740           4.1      3.031\n",
       "4    2001/05   65.677           3.7      3.284\n",
       "..       ...      ...           ...        ...\n",
       "248  2021/09  103.170           2.7      2.430\n",
       "249  2021/10  103.350           2.8      3.170\n",
       "250  2021/11  103.870           2.6      3.780\n",
       "251  2021/12  104.040           3.5      3.710\n",
       "252  2022/01  104.690           4.1      3.650\n",
       "\n",
       "[253 rows x 4 columns]"
      ]
     },
     "execution_count": 152,
     "metadata": {},
     "output_type": "execute_result"
    }
   ],
   "source": [
    "data[\"inflation\"]=data[\"cpi_kor\"].diff(periods=12)\n",
    "data = data.dropna()\n",
    "data = data.reset_index(drop = True)\n",
    "data"
   ]
  },
  {
   "cell_type": "code",
   "execution_count": 159,
   "metadata": {},
   "outputs": [
    {
     "data": {
      "image/png": "[encoded data removed]",
      "text/plain": [
       "<Figure size 432x288 with 1 Axes>"
      ]
     },
     "metadata": {
      "needs_background": "light"
     },
     "output_type": "display_data"
    },
    {
     "data": {
      "image/png": "[encoded data removed]",
      "text/plain": [
       "<Figure size 432x288 with 1 Axes>"
      ]
     },
     "metadata": {
      "needs_background": "light"
     },
     "output_type": "display_data"
    }
   ],
   "source": [
    "plt.plot(data[\"cpi_kor\"])\n",
    "plt.show()\n",
    "\n",
    "plt.plot(data[\"unemploy_kor\"])\n",
    "plt.show()"
   ]
  },
  {
   "cell_type": "code",
   "execution_count": 160,
   "metadata": {},
   "outputs": [
    {
     "name": "stdout",
     "output_type": "stream",
     "text": [
      "Phillips curve\n",
      "πₜ - πₜ₋₁=-α⋅(uₜ - uₜ₋₁), (α > 0)\n"
     ]
    }
   ],
   "source": [
    "import sympy as sym\n",
    "\n",
    "inflation = sym.Symbol('pi_t')-sym.Symbol('pi_t-1')\n",
    "unemployment = sym.Symbol('u_t')-sym.Symbol('u_t-1')\n",
    "a_parameter = sym.Symbol('alpha')\n",
    "\n",
    "print(\"Phillips curve\")\n",
    "print(\"{0}={1}, ({2} > 0)\".format(sym.pretty(inflation), sym.pretty(-a_parameter*unemployment), sym.pretty(a_parameter)))"
   ]
  },
  {
   "cell_type": "code",
   "execution_count": 161,
   "metadata": {},
   "outputs": [
    {
     "data": {
      "image/png": "[encoded data removed]",
      "text/plain": [
       "<Figure size 432x288 with 1 Axes>"
      ]
     },
     "metadata": {
      "needs_background": "light"
     },
     "output_type": "display_data"
    }
   ],
   "source": [
    "import matplotlib.pyplot as plt\n",
    "plt.plot(data[\"unemploy_kor\"],  # x\n",
    "         data[\"inflation\"],  # y\n",
    "         linestyle='none', \n",
    "         marker='o', \n",
    "         markersize=10,\n",
    "         color='blue', \n",
    "         alpha=0.5)\n",
    "plt.show()\n"
   ]
  },
  {
   "cell_type": "code",
   "execution_count": 167,
   "metadata": {},
   "outputs": [
    {
     "name": "stdout",
     "output_type": "stream",
     "text": [
      "α : -0.146081\n"
     ]
    }
   ],
   "source": [
    "corr = data.drop('date', axis = 1).corr(method = \"pearson\")\n",
    "a_corr = corr.loc[\"unemploy_kor\", \"inflation\"]\n",
    "\n",
    "print(\"{0} : {1}\".format(sym.pretty(a_parameter), round(a_corr,6)))"
   ]
  }
 ],
 "metadata": {
  "interpreter": {
   "hash": "92857135c56b3f11a9b7e26d2255a177fd53516c95a7150676f32f0ea3605055"
  },
  "kernelspec": {
   "display_name": "Python 3.9.5 64-bit",
   "language": "python",
   "name": "python3"
  },
  "language_info": {
   "codemirror_mode": {
    "name": "ipython",
    "version": 3
   },
   "file_extension": ".py",
   "mimetype": "text/x-python",
   "name": "python",
   "nbconvert_exporter": "python",
   "pygments_lexer": "ipython3",
   "version": "3.9.5"
  },
  "orig_nbformat": 4
 },
 "nbformat": 4,
 "nbformat_minor": 2
}
